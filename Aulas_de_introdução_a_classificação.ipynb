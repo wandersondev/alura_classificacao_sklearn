{
  "nbformat": 4,
  "nbformat_minor": 0,
  "metadata": {
    "colab": {
      "provenance": []
    },
    "kernelspec": {
      "name": "python3",
      "display_name": "Python 3"
    },
    "language_info": {
      "name": "python"
    }
  },
  "cells": [
    {
      "cell_type": "markdown",
      "source": [
        "**Projeto de classificação utilizando SKLearning:** Definição a partir de características de um animal se ele é um porco ou um cachorro."
      ],
      "metadata": {
        "id": "x1hU7Z9M_dnn"
      }
    },
    {
      "cell_type": "code",
      "execution_count": 3,
      "metadata": {
        "id": "JgfejYaZ_L_A"
      },
      "outputs": [],
      "source": [
        "#features: são as características de um animal\n",
        "#pelo é longo?  (1=sim,0=não)\n",
        "#perna é curta? (1=sim,0=não)\n",
        "#faz (emite o som) au au ? (1=sim,0=não)"
      ]
    },
    {
      "cell_type": "code",
      "source": [],
      "metadata": {
        "id": "8pBt7MwOAHaa"
      },
      "execution_count": null,
      "outputs": []
    }
  ]
}